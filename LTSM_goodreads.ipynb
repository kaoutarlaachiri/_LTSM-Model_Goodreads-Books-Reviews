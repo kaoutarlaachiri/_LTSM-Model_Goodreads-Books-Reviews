{
  "cells": [
    {
      "cell_type": "markdown",
      "source": [
        "# Introduction\n",
        "\n",
        "This notebook is designed to train an **LSTM** model to classify the rating of a book review. The goal is to develop a model that can accurately predict the rating [0-5] of a given piece of text.\n",
        "\n",
        "Long Short-Term Memory (LSTM) models are a type of recurrent neural network (RNN) that are well-suited for text classification tasks. LSTMs are able to capture long-term dependencies in the input data, making them particularly effective at classifying sequences of words.\n",
        "\n",
        "We will be using the **Goodreads Books Review Rating Prediction** dataset from the Kaggle competition of the same name for training and evaluating the model. The dataset consists of 9000 texts, each with a corresponding rating label. The texts are book reviews from the Goodreads website, and the ratings are on a scale from 1 to 5.\n",
        "\n"
      ],
      "metadata": {
        "id": "ukuObYxoNR9D"
      }
    },
    {
      "cell_type": "markdown",
      "source": [
        "## Download kaggle dataset"
      ],
      "metadata": {
        "id": "reKvnLz2NX9K"
      }
    },
    {
      "cell_type": "code",
      "execution_count": null,
      "metadata": {
        "id": "Fn0W90x-dCFD"
      },
      "outputs": [],
      "source": [
        "! pip install -q kaggle"
      ]
    },
    {
      "cell_type": "code",
      "execution_count": null,
      "metadata": {
        "id": "6yhRH5yUdCFE"
      },
      "outputs": [],
      "source": [
        "! mkdir ~/.kaggle"
      ]
    },
    {
      "cell_type": "code",
      "execution_count": null,
      "metadata": {
        "id": "mUNFHY9GdCFF"
      },
      "outputs": [],
      "source": [
        "! cp ./kaggle.json ~/.kaggle/"
      ]
    },
    {
      "cell_type": "code",
      "execution_count": null,
      "metadata": {
        "id": "tK5EvsildCFF"
      },
      "outputs": [],
      "source": [
        "! chmod 600 ~/.kaggle/kaggle.json"
      ]
    },
    {
      "cell_type": "code",
      "execution_count": null,
      "metadata": {
        "colab": {
          "base_uri": "https://localhost:8080/"
        },
        "id": "dLeayP2rdCFF",
        "outputId": "5bf96757-3c7f-4e39-85c3-7855e8992308"
      },
      "outputs": [
        {
          "output_type": "stream",
          "name": "stdout",
          "text": [
            "Downloading goodreads-books-reviews-290312.zip to /content\n",
            "100% 633M/635M [00:38<00:00, 16.9MB/s]\n",
            "100% 635M/635M [00:38<00:00, 17.2MB/s]\n"
          ]
        }
      ],
      "source": [
        "! kaggle competitions download -c goodreads-books-reviews-290312"
      ]
    },
    {
      "cell_type": "code",
      "execution_count": null,
      "metadata": {
        "colab": {
          "base_uri": "https://localhost:8080/"
        },
        "id": "LDpFNIMGdCFF",
        "outputId": "4fe72637-e710-48ad-c11b-5cfc1245e43c"
      },
      "outputs": [
        {
          "output_type": "stream",
          "name": "stdout",
          "text": [
            "Archive:  goodreads-books-reviews-290312.zip\n",
            "  inflating: goodreads_sample_submission.csv  \n",
            "  inflating: goodreads_test.csv      \n",
            "  inflating: goodreads_train.csv     \n"
          ]
        }
      ],
      "source": [
        "! unzip goodreads-books-reviews-290312.zip"
      ]
    },
    {
      "cell_type": "markdown",
      "metadata": {
        "id": "UBKBYjpy7wYo"
      },
      "source": [
        "## Setup"
      ]
    },
    {
      "cell_type": "code",
      "execution_count": null,
      "metadata": {
        "id": "WMeYTFzb7vdd"
      },
      "outputs": [],
      "source": [
        "import pandas as pd\n",
        "import seaborn as sns\n",
        "import matplotlib.pyplot as plt\n",
        "%matplotlib inline\n",
        "import numpy as np\n",
        "import re"
      ]
    },
    {
      "cell_type": "markdown",
      "source": [
        "## Import data"
      ],
      "metadata": {
        "id": "JaThZOcCO_Hl"
      }
    },
    {
      "cell_type": "code",
      "execution_count": null,
      "metadata": {
        "id": "UXikXWGP70Ly"
      },
      "outputs": [],
      "source": [
        "train_df = pd.read_csv('goodreads_train.csv')\n",
        "headers = train_df.columns"
      ]
    },
    {
      "cell_type": "code",
      "execution_count": null,
      "metadata": {
        "colab": {
          "base_uri": "https://localhost:8080/",
          "height": 1000
        },
        "id": "gTwz7zS49g8m",
        "outputId": "09b13997-6b81-49e8-e327-dda20431f88e"
      },
      "outputs": [
        {
          "output_type": "execute_result",
          "data": {
            "text/plain": [
              "                                 user_id   book_id  \\\n",
              "0       8842281e1d1347389f2ab93d60773d4d  18245960   \n",
              "1       8842281e1d1347389f2ab93d60773d4d     16981   \n",
              "2       8842281e1d1347389f2ab93d60773d4d  28684704   \n",
              "3       8842281e1d1347389f2ab93d60773d4d  27161156   \n",
              "4       8842281e1d1347389f2ab93d60773d4d  25884323   \n",
              "...                                  ...       ...   \n",
              "899995  b9450d1c1f97f891c392b1105959b56e  11832081   \n",
              "899996  b9450d1c1f97f891c392b1105959b56e  16095092   \n",
              "899997  b9450d1c1f97f891c392b1105959b56e   8430896   \n",
              "899998  b9450d1c1f97f891c392b1105959b56e  12275680   \n",
              "899999  b9450d1c1f97f891c392b1105959b56e     17005   \n",
              "\n",
              "                               review_id  rating  \\\n",
              "0       dfdbb7b0eb5a7e4c26d59a937e2e5feb       5   \n",
              "1       a5d2c3628987712d0e05c4f90798eb67       3   \n",
              "2       2ede853b14dc4583f96cf5d120af636f       3   \n",
              "3       ced5675e55cd9d38a524743f5c40996e       0   \n",
              "4       332732725863131279a8e345b63ac33e       4   \n",
              "...                                  ...     ...   \n",
              "899995  7c34c15ad8cb28a4afca32946e2016ea       3   \n",
              "899996  e979c735276431915d089cfaf446d64f       3   \n",
              "899997  feb9fe6439f9fbba8a1cce36020ad977       4   \n",
              "899998  741e29369f70531bfffbd02add86f228       4   \n",
              "899999  d55f3a967230940e75a314700caec9a5       3   \n",
              "\n",
              "                                              review_text  \\\n",
              "0       This is a special book. It started slow for ab...   \n",
              "1       Recommended by Don Katz. Avail for free in Dec...   \n",
              "2       A fun, fast paced science fiction thriller. I ...   \n",
              "3       Recommended reading to understand what is goin...   \n",
              "4       I really enjoyed this book, and there is a lot...   \n",
              "...                                                   ...   \n",
              "899995  3.5 stars. \\n Jenna is a popular YA author and...   \n",
              "899996  This was a quick read for me. I have read a lo...   \n",
              "899997  ** spoiler alert ** \\n 3.5 stars. \\n This book...   \n",
              "899998  ** spoiler alert ** \\n Another fun read from M...   \n",
              "899999  ** spoiler alert ** \\n 3.5 stars \\n I liked it...   \n",
              "\n",
              "                            date_added                    date_updated  \\\n",
              "0       Sun Jul 30 07:44:10 -0700 2017  Wed Aug 30 00:00:26 -0700 2017   \n",
              "1       Mon Dec 05 10:46:44 -0800 2016  Wed Mar 22 11:37:04 -0700 2017   \n",
              "2       Tue Nov 15 11:29:22 -0800 2016  Mon Mar 20 23:40:27 -0700 2017   \n",
              "3       Wed Nov 09 17:37:04 -0800 2016  Wed Nov 09 17:38:20 -0800 2016   \n",
              "4       Mon Apr 25 09:31:23 -0700 2016  Mon Apr 25 09:31:23 -0700 2016   \n",
              "...                                ...                             ...   \n",
              "899995  Fri Nov 16 22:10:17 -0800 2012  Sat Nov 17 22:42:44 -0800 2012   \n",
              "899996  Fri Nov 16 22:09:49 -0800 2012  Sat Nov 17 23:38:58 -0800 2012   \n",
              "899997  Tue Nov 13 05:38:24 -0800 2012  Tue Nov 13 23:29:17 -0800 2012   \n",
              "899998  Mon Nov 12 05:42:30 -0800 2012  Tue Nov 13 22:32:05 -0800 2012   \n",
              "899999  Sun Nov 11 00:05:43 -0800 2012  Sun Nov 11 21:59:08 -0800 2012   \n",
              "\n",
              "                               read_at                      started_at  \\\n",
              "0       Sat Aug 26 12:05:52 -0700 2017  Tue Aug 15 13:23:18 -0700 2017   \n",
              "1                                  NaN                             NaN   \n",
              "2       Sat Mar 18 23:22:42 -0700 2017  Fri Mar 17 23:45:40 -0700 2017   \n",
              "3                                  NaN                             NaN   \n",
              "4       Sun Jun 26 00:00:00 -0700 2016  Sat May 28 00:00:00 -0700 2016   \n",
              "...                                ...                             ...   \n",
              "899995  Sat Nov 17 00:00:00 -0800 2012  Fri Nov 16 00:00:00 -0800 2012   \n",
              "899996  Sat Nov 17 00:00:00 -0800 2012  Fri Nov 16 00:00:00 -0800 2012   \n",
              "899997  Tue Nov 13 00:00:00 -0800 2012  Tue Nov 13 00:00:00 -0800 2012   \n",
              "899998  Tue Nov 13 00:00:00 -0800 2012  Mon Nov 12 00:00:00 -0800 2012   \n",
              "899999  Sun Nov 11 00:00:00 -0800 2012  Sun Nov 11 00:00:00 -0800 2012   \n",
              "\n",
              "        n_votes  n_comments  \n",
              "0            28           1  \n",
              "1             1           0  \n",
              "2            22           0  \n",
              "3             5           1  \n",
              "4             9           1  \n",
              "...         ...         ...  \n",
              "899995        0           0  \n",
              "899996        1           1  \n",
              "899997        1           0  \n",
              "899998        0           0  \n",
              "899999        0           0  \n",
              "\n",
              "[900000 rows x 11 columns]"
            ],
            "text/html": [
              "\n",
              "  <div id=\"df-5ef16d6b-90c6-43b2-800e-8e8fafbc68dd\">\n",
              "    <div class=\"colab-df-container\">\n",
              "      <div>\n",
              "<style scoped>\n",
              "    .dataframe tbody tr th:only-of-type {\n",
              "        vertical-align: middle;\n",
              "    }\n",
              "\n",
              "    .dataframe tbody tr th {\n",
              "        vertical-align: top;\n",
              "    }\n",
              "\n",
              "    .dataframe thead th {\n",
              "        text-align: right;\n",
              "    }\n",
              "</style>\n",
              "<table border=\"1\" class=\"dataframe\">\n",
              "  <thead>\n",
              "    <tr style=\"text-align: right;\">\n",
              "      <th></th>\n",
              "      <th>user_id</th>\n",
              "      <th>book_id</th>\n",
              "      <th>review_id</th>\n",
              "      <th>rating</th>\n",
              "      <th>review_text</th>\n",
              "      <th>date_added</th>\n",
              "      <th>date_updated</th>\n",
              "      <th>read_at</th>\n",
              "      <th>started_at</th>\n",
              "      <th>n_votes</th>\n",
              "      <th>n_comments</th>\n",
              "    </tr>\n",
              "  </thead>\n",
              "  <tbody>\n",
              "    <tr>\n",
              "      <th>0</th>\n",
              "      <td>8842281e1d1347389f2ab93d60773d4d</td>\n",
              "      <td>18245960</td>\n",
              "      <td>dfdbb7b0eb5a7e4c26d59a937e2e5feb</td>\n",
              "      <td>5</td>\n",
              "      <td>This is a special book. It started slow for ab...</td>\n",
              "      <td>Sun Jul 30 07:44:10 -0700 2017</td>\n",
              "      <td>Wed Aug 30 00:00:26 -0700 2017</td>\n",
              "      <td>Sat Aug 26 12:05:52 -0700 2017</td>\n",
              "      <td>Tue Aug 15 13:23:18 -0700 2017</td>\n",
              "      <td>28</td>\n",
              "      <td>1</td>\n",
              "    </tr>\n",
              "    <tr>\n",
              "      <th>1</th>\n",
              "      <td>8842281e1d1347389f2ab93d60773d4d</td>\n",
              "      <td>16981</td>\n",
              "      <td>a5d2c3628987712d0e05c4f90798eb67</td>\n",
              "      <td>3</td>\n",
              "      <td>Recommended by Don Katz. Avail for free in Dec...</td>\n",
              "      <td>Mon Dec 05 10:46:44 -0800 2016</td>\n",
              "      <td>Wed Mar 22 11:37:04 -0700 2017</td>\n",
              "      <td>NaN</td>\n",
              "      <td>NaN</td>\n",
              "      <td>1</td>\n",
              "      <td>0</td>\n",
              "    </tr>\n",
              "    <tr>\n",
              "      <th>2</th>\n",
              "      <td>8842281e1d1347389f2ab93d60773d4d</td>\n",
              "      <td>28684704</td>\n",
              "      <td>2ede853b14dc4583f96cf5d120af636f</td>\n",
              "      <td>3</td>\n",
              "      <td>A fun, fast paced science fiction thriller. I ...</td>\n",
              "      <td>Tue Nov 15 11:29:22 -0800 2016</td>\n",
              "      <td>Mon Mar 20 23:40:27 -0700 2017</td>\n",
              "      <td>Sat Mar 18 23:22:42 -0700 2017</td>\n",
              "      <td>Fri Mar 17 23:45:40 -0700 2017</td>\n",
              "      <td>22</td>\n",
              "      <td>0</td>\n",
              "    </tr>\n",
              "    <tr>\n",
              "      <th>3</th>\n",
              "      <td>8842281e1d1347389f2ab93d60773d4d</td>\n",
              "      <td>27161156</td>\n",
              "      <td>ced5675e55cd9d38a524743f5c40996e</td>\n",
              "      <td>0</td>\n",
              "      <td>Recommended reading to understand what is goin...</td>\n",
              "      <td>Wed Nov 09 17:37:04 -0800 2016</td>\n",
              "      <td>Wed Nov 09 17:38:20 -0800 2016</td>\n",
              "      <td>NaN</td>\n",
              "      <td>NaN</td>\n",
              "      <td>5</td>\n",
              "      <td>1</td>\n",
              "    </tr>\n",
              "    <tr>\n",
              "      <th>4</th>\n",
              "      <td>8842281e1d1347389f2ab93d60773d4d</td>\n",
              "      <td>25884323</td>\n",
              "      <td>332732725863131279a8e345b63ac33e</td>\n",
              "      <td>4</td>\n",
              "      <td>I really enjoyed this book, and there is a lot...</td>\n",
              "      <td>Mon Apr 25 09:31:23 -0700 2016</td>\n",
              "      <td>Mon Apr 25 09:31:23 -0700 2016</td>\n",
              "      <td>Sun Jun 26 00:00:00 -0700 2016</td>\n",
              "      <td>Sat May 28 00:00:00 -0700 2016</td>\n",
              "      <td>9</td>\n",
              "      <td>1</td>\n",
              "    </tr>\n",
              "    <tr>\n",
              "      <th>...</th>\n",
              "      <td>...</td>\n",
              "      <td>...</td>\n",
              "      <td>...</td>\n",
              "      <td>...</td>\n",
              "      <td>...</td>\n",
              "      <td>...</td>\n",
              "      <td>...</td>\n",
              "      <td>...</td>\n",
              "      <td>...</td>\n",
              "      <td>...</td>\n",
              "      <td>...</td>\n",
              "    </tr>\n",
              "    <tr>\n",
              "      <th>899995</th>\n",
              "      <td>b9450d1c1f97f891c392b1105959b56e</td>\n",
              "      <td>11832081</td>\n",
              "      <td>7c34c15ad8cb28a4afca32946e2016ea</td>\n",
              "      <td>3</td>\n",
              "      <td>3.5 stars. \\n Jenna is a popular YA author and...</td>\n",
              "      <td>Fri Nov 16 22:10:17 -0800 2012</td>\n",
              "      <td>Sat Nov 17 22:42:44 -0800 2012</td>\n",
              "      <td>Sat Nov 17 00:00:00 -0800 2012</td>\n",
              "      <td>Fri Nov 16 00:00:00 -0800 2012</td>\n",
              "      <td>0</td>\n",
              "      <td>0</td>\n",
              "    </tr>\n",
              "    <tr>\n",
              "      <th>899996</th>\n",
              "      <td>b9450d1c1f97f891c392b1105959b56e</td>\n",
              "      <td>16095092</td>\n",
              "      <td>e979c735276431915d089cfaf446d64f</td>\n",
              "      <td>3</td>\n",
              "      <td>This was a quick read for me. I have read a lo...</td>\n",
              "      <td>Fri Nov 16 22:09:49 -0800 2012</td>\n",
              "      <td>Sat Nov 17 23:38:58 -0800 2012</td>\n",
              "      <td>Sat Nov 17 00:00:00 -0800 2012</td>\n",
              "      <td>Fri Nov 16 00:00:00 -0800 2012</td>\n",
              "      <td>1</td>\n",
              "      <td>1</td>\n",
              "    </tr>\n",
              "    <tr>\n",
              "      <th>899997</th>\n",
              "      <td>b9450d1c1f97f891c392b1105959b56e</td>\n",
              "      <td>8430896</td>\n",
              "      <td>feb9fe6439f9fbba8a1cce36020ad977</td>\n",
              "      <td>4</td>\n",
              "      <td>** spoiler alert ** \\n 3.5 stars. \\n This book...</td>\n",
              "      <td>Tue Nov 13 05:38:24 -0800 2012</td>\n",
              "      <td>Tue Nov 13 23:29:17 -0800 2012</td>\n",
              "      <td>Tue Nov 13 00:00:00 -0800 2012</td>\n",
              "      <td>Tue Nov 13 00:00:00 -0800 2012</td>\n",
              "      <td>1</td>\n",
              "      <td>0</td>\n",
              "    </tr>\n",
              "    <tr>\n",
              "      <th>899998</th>\n",
              "      <td>b9450d1c1f97f891c392b1105959b56e</td>\n",
              "      <td>12275680</td>\n",
              "      <td>741e29369f70531bfffbd02add86f228</td>\n",
              "      <td>4</td>\n",
              "      <td>** spoiler alert ** \\n Another fun read from M...</td>\n",
              "      <td>Mon Nov 12 05:42:30 -0800 2012</td>\n",
              "      <td>Tue Nov 13 22:32:05 -0800 2012</td>\n",
              "      <td>Tue Nov 13 00:00:00 -0800 2012</td>\n",
              "      <td>Mon Nov 12 00:00:00 -0800 2012</td>\n",
              "      <td>0</td>\n",
              "      <td>0</td>\n",
              "    </tr>\n",
              "    <tr>\n",
              "      <th>899999</th>\n",
              "      <td>b9450d1c1f97f891c392b1105959b56e</td>\n",
              "      <td>17005</td>\n",
              "      <td>d55f3a967230940e75a314700caec9a5</td>\n",
              "      <td>3</td>\n",
              "      <td>** spoiler alert ** \\n 3.5 stars \\n I liked it...</td>\n",
              "      <td>Sun Nov 11 00:05:43 -0800 2012</td>\n",
              "      <td>Sun Nov 11 21:59:08 -0800 2012</td>\n",
              "      <td>Sun Nov 11 00:00:00 -0800 2012</td>\n",
              "      <td>Sun Nov 11 00:00:00 -0800 2012</td>\n",
              "      <td>0</td>\n",
              "      <td>0</td>\n",
              "    </tr>\n",
              "  </tbody>\n",
              "</table>\n",
              "<p>900000 rows × 11 columns</p>\n",
              "</div>\n",
              "      <button class=\"colab-df-convert\" onclick=\"convertToInteractive('df-5ef16d6b-90c6-43b2-800e-8e8fafbc68dd')\"\n",
              "              title=\"Convert this dataframe to an interactive table.\"\n",
              "              style=\"display:none;\">\n",
              "        \n",
              "  <svg xmlns=\"http://www.w3.org/2000/svg\" height=\"24px\"viewBox=\"0 0 24 24\"\n",
              "       width=\"24px\">\n",
              "    <path d=\"M0 0h24v24H0V0z\" fill=\"none\"/>\n",
              "    <path d=\"M18.56 5.44l.94 2.06.94-2.06 2.06-.94-2.06-.94-.94-2.06-.94 2.06-2.06.94zm-11 1L8.5 8.5l.94-2.06 2.06-.94-2.06-.94L8.5 2.5l-.94 2.06-2.06.94zm10 10l.94 2.06.94-2.06 2.06-.94-2.06-.94-.94-2.06-.94 2.06-2.06.94z\"/><path d=\"M17.41 7.96l-1.37-1.37c-.4-.4-.92-.59-1.43-.59-.52 0-1.04.2-1.43.59L10.3 9.45l-7.72 7.72c-.78.78-.78 2.05 0 2.83L4 21.41c.39.39.9.59 1.41.59.51 0 1.02-.2 1.41-.59l7.78-7.78 2.81-2.81c.8-.78.8-2.07 0-2.86zM5.41 20L4 18.59l7.72-7.72 1.47 1.35L5.41 20z\"/>\n",
              "  </svg>\n",
              "      </button>\n",
              "      \n",
              "  <style>\n",
              "    .colab-df-container {\n",
              "      display:flex;\n",
              "      flex-wrap:wrap;\n",
              "      gap: 12px;\n",
              "    }\n",
              "\n",
              "    .colab-df-convert {\n",
              "      background-color: #E8F0FE;\n",
              "      border: none;\n",
              "      border-radius: 50%;\n",
              "      cursor: pointer;\n",
              "      display: none;\n",
              "      fill: #1967D2;\n",
              "      height: 32px;\n",
              "      padding: 0 0 0 0;\n",
              "      width: 32px;\n",
              "    }\n",
              "\n",
              "    .colab-df-convert:hover {\n",
              "      background-color: #E2EBFA;\n",
              "      box-shadow: 0px 1px 2px rgba(60, 64, 67, 0.3), 0px 1px 3px 1px rgba(60, 64, 67, 0.15);\n",
              "      fill: #174EA6;\n",
              "    }\n",
              "\n",
              "    [theme=dark] .colab-df-convert {\n",
              "      background-color: #3B4455;\n",
              "      fill: #D2E3FC;\n",
              "    }\n",
              "\n",
              "    [theme=dark] .colab-df-convert:hover {\n",
              "      background-color: #434B5C;\n",
              "      box-shadow: 0px 1px 3px 1px rgba(0, 0, 0, 0.15);\n",
              "      filter: drop-shadow(0px 1px 2px rgba(0, 0, 0, 0.3));\n",
              "      fill: #FFFFFF;\n",
              "    }\n",
              "  </style>\n",
              "\n",
              "      <script>\n",
              "        const buttonEl =\n",
              "          document.querySelector('#df-5ef16d6b-90c6-43b2-800e-8e8fafbc68dd button.colab-df-convert');\n",
              "        buttonEl.style.display =\n",
              "          google.colab.kernel.accessAllowed ? 'block' : 'none';\n",
              "\n",
              "        async function convertToInteractive(key) {\n",
              "          const element = document.querySelector('#df-5ef16d6b-90c6-43b2-800e-8e8fafbc68dd');\n",
              "          const dataTable =\n",
              "            await google.colab.kernel.invokeFunction('convertToInteractive',\n",
              "                                                     [key], {});\n",
              "          if (!dataTable) return;\n",
              "\n",
              "          const docLinkHtml = 'Like what you see? Visit the ' +\n",
              "            '<a target=\"_blank\" href=https://colab.research.google.com/notebooks/data_table.ipynb>data table notebook</a>'\n",
              "            + ' to learn more about interactive tables.';\n",
              "          element.innerHTML = '';\n",
              "          dataTable['output_type'] = 'display_data';\n",
              "          await google.colab.output.renderOutput(dataTable, element);\n",
              "          const docLink = document.createElement('div');\n",
              "          docLink.innerHTML = docLinkHtml;\n",
              "          element.appendChild(docLink);\n",
              "        }\n",
              "      </script>\n",
              "    </div>\n",
              "  </div>\n",
              "  "
            ]
          },
          "metadata": {},
          "execution_count": 10
        }
      ],
      "source": [
        "train_df"
      ]
    },
    {
      "cell_type": "markdown",
      "source": [
        "### Data info"
      ],
      "metadata": {
        "id": "qXChVbyzPM8q"
      }
    },
    {
      "cell_type": "code",
      "execution_count": null,
      "metadata": {
        "colab": {
          "base_uri": "https://localhost:8080/"
        },
        "id": "H7XoBzw_IMSz",
        "outputId": "d669f898-8104-477a-97a4-29d2099bcd40"
      },
      "outputs": [
        {
          "output_type": "stream",
          "name": "stdout",
          "text": [
            "<class 'pandas.core.frame.DataFrame'>\n",
            "RangeIndex: 900000 entries, 0 to 899999\n",
            "Data columns (total 11 columns):\n",
            " #   Column        Non-Null Count   Dtype \n",
            "---  ------        --------------   ----- \n",
            " 0   user_id       900000 non-null  object\n",
            " 1   book_id       900000 non-null  int64 \n",
            " 2   review_id     900000 non-null  object\n",
            " 3   rating        900000 non-null  int64 \n",
            " 4   review_text   900000 non-null  object\n",
            " 5   date_added    900000 non-null  object\n",
            " 6   date_updated  900000 non-null  object\n",
            " 7   read_at       808234 non-null  object\n",
            " 8   started_at    625703 non-null  object\n",
            " 9   n_votes       900000 non-null  int64 \n",
            " 10  n_comments    900000 non-null  int64 \n",
            "dtypes: int64(4), object(7)\n",
            "memory usage: 75.5+ MB\n"
          ]
        }
      ],
      "source": [
        "train_df.info()\n"
      ]
    },
    {
      "cell_type": "code",
      "execution_count": null,
      "metadata": {
        "colab": {
          "base_uri": "https://localhost:8080/"
        },
        "id": "uQIJDrM5_L11",
        "outputId": "c544a93f-062e-4415-8ce9-702065a2d433"
      },
      "outputs": [
        {
          "output_type": "execute_result",
          "data": {
            "text/plain": [
              "(900000, 11)"
            ]
          },
          "metadata": {},
          "execution_count": 13
        }
      ],
      "source": [
        "train_df.shape"
      ]
    },
    {
      "cell_type": "code",
      "execution_count": null,
      "metadata": {
        "colab": {
          "base_uri": "https://localhost:8080/",
          "height": 300
        },
        "id": "yObrg8JzOrUP",
        "outputId": "a88b9a50-1b6e-45c7-f6c1-3615a9dc1598"
      },
      "outputs": [
        {
          "output_type": "execute_result",
          "data": {
            "text/plain": [
              "            book_id         rating        n_votes     n_comments\n",
              "count  9.000000e+05  900000.000000  900000.000000  900000.000000\n",
              "mean   1.344145e+07       3.689639       3.294381       1.016656\n",
              "std    9.357863e+06       1.252583      17.873553       5.963821\n",
              "min    1.000000e+00       0.000000      -3.000000      -1.000000\n",
              "25%    6.340471e+06       3.000000       0.000000       0.000000\n",
              "50%    1.344203e+07       4.000000       0.000000       0.000000\n",
              "75%    2.057897e+07       5.000000       2.000000       0.000000\n",
              "max    3.632868e+07       5.000000    3222.000000    1335.000000"
            ],
            "text/html": [
              "\n",
              "  <div id=\"df-5480973c-473d-486e-9ba3-3298ff1d78ac\">\n",
              "    <div class=\"colab-df-container\">\n",
              "      <div>\n",
              "<style scoped>\n",
              "    .dataframe tbody tr th:only-of-type {\n",
              "        vertical-align: middle;\n",
              "    }\n",
              "\n",
              "    .dataframe tbody tr th {\n",
              "        vertical-align: top;\n",
              "    }\n",
              "\n",
              "    .dataframe thead th {\n",
              "        text-align: right;\n",
              "    }\n",
              "</style>\n",
              "<table border=\"1\" class=\"dataframe\">\n",
              "  <thead>\n",
              "    <tr style=\"text-align: right;\">\n",
              "      <th></th>\n",
              "      <th>book_id</th>\n",
              "      <th>rating</th>\n",
              "      <th>n_votes</th>\n",
              "      <th>n_comments</th>\n",
              "    </tr>\n",
              "  </thead>\n",
              "  <tbody>\n",
              "    <tr>\n",
              "      <th>count</th>\n",
              "      <td>9.000000e+05</td>\n",
              "      <td>900000.000000</td>\n",
              "      <td>900000.000000</td>\n",
              "      <td>900000.000000</td>\n",
              "    </tr>\n",
              "    <tr>\n",
              "      <th>mean</th>\n",
              "      <td>1.344145e+07</td>\n",
              "      <td>3.689639</td>\n",
              "      <td>3.294381</td>\n",
              "      <td>1.016656</td>\n",
              "    </tr>\n",
              "    <tr>\n",
              "      <th>std</th>\n",
              "      <td>9.357863e+06</td>\n",
              "      <td>1.252583</td>\n",
              "      <td>17.873553</td>\n",
              "      <td>5.963821</td>\n",
              "    </tr>\n",
              "    <tr>\n",
              "      <th>min</th>\n",
              "      <td>1.000000e+00</td>\n",
              "      <td>0.000000</td>\n",
              "      <td>-3.000000</td>\n",
              "      <td>-1.000000</td>\n",
              "    </tr>\n",
              "    <tr>\n",
              "      <th>25%</th>\n",
              "      <td>6.340471e+06</td>\n",
              "      <td>3.000000</td>\n",
              "      <td>0.000000</td>\n",
              "      <td>0.000000</td>\n",
              "    </tr>\n",
              "    <tr>\n",
              "      <th>50%</th>\n",
              "      <td>1.344203e+07</td>\n",
              "      <td>4.000000</td>\n",
              "      <td>0.000000</td>\n",
              "      <td>0.000000</td>\n",
              "    </tr>\n",
              "    <tr>\n",
              "      <th>75%</th>\n",
              "      <td>2.057897e+07</td>\n",
              "      <td>5.000000</td>\n",
              "      <td>2.000000</td>\n",
              "      <td>0.000000</td>\n",
              "    </tr>\n",
              "    <tr>\n",
              "      <th>max</th>\n",
              "      <td>3.632868e+07</td>\n",
              "      <td>5.000000</td>\n",
              "      <td>3222.000000</td>\n",
              "      <td>1335.000000</td>\n",
              "    </tr>\n",
              "  </tbody>\n",
              "</table>\n",
              "</div>\n",
              "      <button class=\"colab-df-convert\" onclick=\"convertToInteractive('df-5480973c-473d-486e-9ba3-3298ff1d78ac')\"\n",
              "              title=\"Convert this dataframe to an interactive table.\"\n",
              "              style=\"display:none;\">\n",
              "        \n",
              "  <svg xmlns=\"http://www.w3.org/2000/svg\" height=\"24px\"viewBox=\"0 0 24 24\"\n",
              "       width=\"24px\">\n",
              "    <path d=\"M0 0h24v24H0V0z\" fill=\"none\"/>\n",
              "    <path d=\"M18.56 5.44l.94 2.06.94-2.06 2.06-.94-2.06-.94-.94-2.06-.94 2.06-2.06.94zm-11 1L8.5 8.5l.94-2.06 2.06-.94-2.06-.94L8.5 2.5l-.94 2.06-2.06.94zm10 10l.94 2.06.94-2.06 2.06-.94-2.06-.94-.94-2.06-.94 2.06-2.06.94z\"/><path d=\"M17.41 7.96l-1.37-1.37c-.4-.4-.92-.59-1.43-.59-.52 0-1.04.2-1.43.59L10.3 9.45l-7.72 7.72c-.78.78-.78 2.05 0 2.83L4 21.41c.39.39.9.59 1.41.59.51 0 1.02-.2 1.41-.59l7.78-7.78 2.81-2.81c.8-.78.8-2.07 0-2.86zM5.41 20L4 18.59l7.72-7.72 1.47 1.35L5.41 20z\"/>\n",
              "  </svg>\n",
              "      </button>\n",
              "      \n",
              "  <style>\n",
              "    .colab-df-container {\n",
              "      display:flex;\n",
              "      flex-wrap:wrap;\n",
              "      gap: 12px;\n",
              "    }\n",
              "\n",
              "    .colab-df-convert {\n",
              "      background-color: #E8F0FE;\n",
              "      border: none;\n",
              "      border-radius: 50%;\n",
              "      cursor: pointer;\n",
              "      display: none;\n",
              "      fill: #1967D2;\n",
              "      height: 32px;\n",
              "      padding: 0 0 0 0;\n",
              "      width: 32px;\n",
              "    }\n",
              "\n",
              "    .colab-df-convert:hover {\n",
              "      background-color: #E2EBFA;\n",
              "      box-shadow: 0px 1px 2px rgba(60, 64, 67, 0.3), 0px 1px 3px 1px rgba(60, 64, 67, 0.15);\n",
              "      fill: #174EA6;\n",
              "    }\n",
              "\n",
              "    [theme=dark] .colab-df-convert {\n",
              "      background-color: #3B4455;\n",
              "      fill: #D2E3FC;\n",
              "    }\n",
              "\n",
              "    [theme=dark] .colab-df-convert:hover {\n",
              "      background-color: #434B5C;\n",
              "      box-shadow: 0px 1px 3px 1px rgba(0, 0, 0, 0.15);\n",
              "      filter: drop-shadow(0px 1px 2px rgba(0, 0, 0, 0.3));\n",
              "      fill: #FFFFFF;\n",
              "    }\n",
              "  </style>\n",
              "\n",
              "      <script>\n",
              "        const buttonEl =\n",
              "          document.querySelector('#df-5480973c-473d-486e-9ba3-3298ff1d78ac button.colab-df-convert');\n",
              "        buttonEl.style.display =\n",
              "          google.colab.kernel.accessAllowed ? 'block' : 'none';\n",
              "\n",
              "        async function convertToInteractive(key) {\n",
              "          const element = document.querySelector('#df-5480973c-473d-486e-9ba3-3298ff1d78ac');\n",
              "          const dataTable =\n",
              "            await google.colab.kernel.invokeFunction('convertToInteractive',\n",
              "                                                     [key], {});\n",
              "          if (!dataTable) return;\n",
              "\n",
              "          const docLinkHtml = 'Like what you see? Visit the ' +\n",
              "            '<a target=\"_blank\" href=https://colab.research.google.com/notebooks/data_table.ipynb>data table notebook</a>'\n",
              "            + ' to learn more about interactive tables.';\n",
              "          element.innerHTML = '';\n",
              "          dataTable['output_type'] = 'display_data';\n",
              "          await google.colab.output.renderOutput(dataTable, element);\n",
              "          const docLink = document.createElement('div');\n",
              "          docLink.innerHTML = docLinkHtml;\n",
              "          element.appendChild(docLink);\n",
              "        }\n",
              "      </script>\n",
              "    </div>\n",
              "  </div>\n",
              "  "
            ]
          },
          "metadata": {},
          "execution_count": 15
        }
      ],
      "source": [
        "train_df.describe()\n"
      ]
    },
    {
      "cell_type": "code",
      "execution_count": null,
      "metadata": {
        "colab": {
          "base_uri": "https://localhost:8080/"
        },
        "id": "2XvoHSRwOzAF",
        "outputId": "0b5a0aab-d437-4ccc-83d3-aabb93a61e88"
      },
      "outputs": [
        {
          "output_type": "execute_result",
          "data": {
            "text/plain": [
              "user_id              0\n",
              "book_id              0\n",
              "review_id            0\n",
              "rating               0\n",
              "review_text          0\n",
              "date_added           0\n",
              "date_updated         0\n",
              "read_at          91766\n",
              "started_at      274297\n",
              "n_votes              0\n",
              "n_comments           0\n",
              "dtype: int64"
            ]
          },
          "metadata": {},
          "execution_count": 16
        }
      ],
      "source": [
        "#null values\n",
        "train_df.isnull().sum()"
      ]
    },
    {
      "cell_type": "code",
      "execution_count": null,
      "metadata": {
        "colab": {
          "base_uri": "https://localhost:8080/"
        },
        "id": "OyMP26LzPlLF",
        "outputId": "c4655691-47c5-4c43-c6fb-f16ce9fe4b06"
      },
      "outputs": [
        {
          "output_type": "execute_result",
          "data": {
            "text/plain": [
              "0"
            ]
          },
          "metadata": {},
          "execution_count": 18
        }
      ],
      "source": [
        "#duplicated values\n",
        "train_df.duplicated().sum()"
      ]
    },
    {
      "cell_type": "code",
      "execution_count": null,
      "metadata": {
        "colab": {
          "base_uri": "https://localhost:8080/"
        },
        "id": "6_qd0wJ0Px6D",
        "outputId": "a53b32c5-45f3-419f-e722-3deca4b639fe"
      },
      "outputs": [
        {
          "output_type": "execute_result",
          "data": {
            "text/plain": [
              "user_id          12188\n",
              "book_id          25474\n",
              "review_id       900000\n",
              "rating               6\n",
              "review_text     890254\n",
              "date_added      895846\n",
              "date_updated    883643\n",
              "read_at         304509\n",
              "started_at       38280\n",
              "n_votes            540\n",
              "n_comments         236\n",
              "dtype: int64"
            ]
          },
          "metadata": {},
          "execution_count": 19
        }
      ],
      "source": [
        "#unique values\n",
        "train_df.nunique()"
      ]
    },
    {
      "cell_type": "markdown",
      "source": [
        "### Word Cloud"
      ],
      "metadata": {
        "id": "GoT7QVBxPRVm"
      }
    },
    {
      "cell_type": "code",
      "execution_count": null,
      "metadata": {
        "colab": {
          "base_uri": "https://localhost:8080/",
          "height": 198
        },
        "id": "0U6XSPSHdCFJ",
        "outputId": "b9ec0f74-17d7-40f9-96fd-bbdecb3fc6a5"
      },
      "outputs": [
        {
          "output_type": "display_data",
          "data": {
            "text/plain": [
              "<Figure size 432x288 with 1 Axes>"
            ],
            "image/png": "[encoded data removed]"
          },
          "metadata": {
            "needs_background": "light"
          }
        }
      ],
      "source": [
        "from wordcloud import WordCloud\n",
        "import matplotlib.pyplot as plt\n",
        "\n",
        "# Select the column containing the words you want to plot\n",
        "text = str(train_df.review_text)\n",
        "# Create a word cloud object\n",
        "wordcloud = WordCloud().generate(text)\n",
        "\n",
        "# Display the word cloud\n",
        "plt.imshow(wordcloud, interpolation='bilinear')\n",
        "plt.axis(\"off\")\n",
        "plt.show()"
      ]
    },
    {
      "cell_type": "markdown",
      "metadata": {
        "id": "ZfHS7EjRPOH9"
      },
      "source": [
        "## Data preprocessing"
      ]
    },
    {
      "cell_type": "markdown",
      "metadata": {
        "id": "cGb7fsH5PSBr"
      },
      "source": [
        "Drop non purposeful data"
      ]
    },
    {
      "cell_type": "code",
      "execution_count": null,
      "metadata": {
        "id": "yx-OpJ-9PM8g"
      },
      "outputs": [],
      "source": [
        "train_df_pre = train_df.drop(['user_id','review_id','date_added','date_updated','read_at','started_at','n_votes','n_comments','book_id'], axis=1)"
      ]
    },
    {
      "cell_type": "code",
      "execution_count": null,
      "metadata": {
        "colab": {
          "base_uri": "https://localhost:8080/",
          "height": 424
        },
        "id": "U-B_hNOmcq-y",
        "outputId": "7882fc19-4804-4334-c9cb-f1e0ab6e55da"
      },
      "outputs": [
        {
          "output_type": "execute_result",
          "data": {
            "text/plain": [
              "        rating                                        review_text\n",
              "0            5  This is a special book. It started slow for ab...\n",
              "1            3  Recommended by Don Katz. Avail for free in Dec...\n",
              "2            3  A fun, fast paced science fiction thriller. I ...\n",
              "3            0  Recommended reading to understand what is goin...\n",
              "4            4  I really enjoyed this book, and there is a lot...\n",
              "...        ...                                                ...\n",
              "899995       3  3.5 stars. \\n Jenna is a popular YA author and...\n",
              "899996       3  This was a quick read for me. I have read a lo...\n",
              "899997       4  ** spoiler alert ** \\n 3.5 stars. \\n This book...\n",
              "899998       4  ** spoiler alert ** \\n Another fun read from M...\n",
              "899999       3  ** spoiler alert ** \\n 3.5 stars \\n I liked it...\n",
              "\n",
              "[900000 rows x 2 columns]"
            ],
            "text/html": [
              "\n",
              "  <div id=\"df-f20d2284-5af0-4713-892b-87e1b09e20d1\">\n",
              "    <div class=\"colab-df-container\">\n",
              "      <div>\n",
              "<style scoped>\n",
              "    .dataframe tbody tr th:only-of-type {\n",
              "        vertical-align: middle;\n",
              "    }\n",
              "\n",
              "    .dataframe tbody tr th {\n",
              "        vertical-align: top;\n",
              "    }\n",
              "\n",
              "    .dataframe thead th {\n",
              "        text-align: right;\n",
              "    }\n",
              "</style>\n",
              "<table border=\"1\" class=\"dataframe\">\n",
              "  <thead>\n",
              "    <tr style=\"text-align: right;\">\n",
              "      <th></th>\n",
              "      <th>rating</th>\n",
              "      <th>review_text</th>\n",
              "    </tr>\n",
              "  </thead>\n",
              "  <tbody>\n",
              "    <tr>\n",
              "      <th>0</th>\n",
              "      <td>5</td>\n",
              "      <td>This is a special book. It started slow for ab...</td>\n",
              "    </tr>\n",
              "    <tr>\n",
              "      <th>1</th>\n",
              "      <td>3</td>\n",
              "      <td>Recommended by Don Katz. Avail for free in Dec...</td>\n",
              "    </tr>\n",
              "    <tr>\n",
              "      <th>2</th>\n",
              "      <td>3</td>\n",
              "      <td>A fun, fast paced science fiction thriller. I ...</td>\n",
              "    </tr>\n",
              "    <tr>\n",
              "      <th>3</th>\n",
              "      <td>0</td>\n",
              "      <td>Recommended reading to understand what is goin...</td>\n",
              "    </tr>\n",
              "    <tr>\n",
              "      <th>4</th>\n",
              "      <td>4</td>\n",
              "      <td>I really enjoyed this book, and there is a lot...</td>\n",
              "    </tr>\n",
              "    <tr>\n",
              "      <th>...</th>\n",
              "      <td>...</td>\n",
              "      <td>...</td>\n",
              "    </tr>\n",
              "    <tr>\n",
              "      <th>899995</th>\n",
              "      <td>3</td>\n",
              "      <td>3.5 stars. \\n Jenna is a popular YA author and...</td>\n",
              "    </tr>\n",
              "    <tr>\n",
              "      <th>899996</th>\n",
              "      <td>3</td>\n",
              "      <td>This was a quick read for me. I have read a lo...</td>\n",
              "    </tr>\n",
              "    <tr>\n",
              "      <th>899997</th>\n",
              "      <td>4</td>\n",
              "      <td>** spoiler alert ** \\n 3.5 stars. \\n This book...</td>\n",
              "    </tr>\n",
              "    <tr>\n",
              "      <th>899998</th>\n",
              "      <td>4</td>\n",
              "      <td>** spoiler alert ** \\n Another fun read from M...</td>\n",
              "    </tr>\n",
              "    <tr>\n",
              "      <th>899999</th>\n",
              "      <td>3</td>\n",
              "      <td>** spoiler alert ** \\n 3.5 stars \\n I liked it...</td>\n",
              "    </tr>\n",
              "  </tbody>\n",
              "</table>\n",
              "<p>900000 rows × 2 columns</p>\n",
              "</div>\n",
              "      <button class=\"colab-df-convert\" onclick=\"convertToInteractive('df-f20d2284-5af0-4713-892b-87e1b09e20d1')\"\n",
              "              title=\"Convert this dataframe to an interactive table.\"\n",
              "              style=\"display:none;\">\n",
              "        \n",
              "  <svg xmlns=\"http://www.w3.org/2000/svg\" height=\"24px\"viewBox=\"0 0 24 24\"\n",
              "       width=\"24px\">\n",
              "    <path d=\"M0 0h24v24H0V0z\" fill=\"none\"/>\n",
              "    <path d=\"M18.56 5.44l.94 2.06.94-2.06 2.06-.94-2.06-.94-.94-2.06-.94 2.06-2.06.94zm-11 1L8.5 8.5l.94-2.06 2.06-.94-2.06-.94L8.5 2.5l-.94 2.06-2.06.94zm10 10l.94 2.06.94-2.06 2.06-.94-2.06-.94-.94-2.06-.94 2.06-2.06.94z\"/><path d=\"M17.41 7.96l-1.37-1.37c-.4-.4-.92-.59-1.43-.59-.52 0-1.04.2-1.43.59L10.3 9.45l-7.72 7.72c-.78.78-.78 2.05 0 2.83L4 21.41c.39.39.9.59 1.41.59.51 0 1.02-.2 1.41-.59l7.78-7.78 2.81-2.81c.8-.78.8-2.07 0-2.86zM5.41 20L4 18.59l7.72-7.72 1.47 1.35L5.41 20z\"/>\n",
              "  </svg>\n",
              "      </button>\n",
              "      \n",
              "  <style>\n",
              "    .colab-df-container {\n",
              "      display:flex;\n",
              "      flex-wrap:wrap;\n",
              "      gap: 12px;\n",
              "    }\n",
              "\n",
              "    .colab-df-convert {\n",
              "      background-color: #E8F0FE;\n",
              "      border: none;\n",
              "      border-radius: 50%;\n",
              "      cursor: pointer;\n",
              "      display: none;\n",
              "      fill: #1967D2;\n",
              "      height: 32px;\n",
              "      padding: 0 0 0 0;\n",
              "      width: 32px;\n",
              "    }\n",
              "\n",
              "    .colab-df-convert:hover {\n",
              "      background-color: #E2EBFA;\n",
              "      box-shadow: 0px 1px 2px rgba(60, 64, 67, 0.3), 0px 1px 3px 1px rgba(60, 64, 67, 0.15);\n",
              "      fill: #174EA6;\n",
              "    }\n",
              "\n",
              "    [theme=dark] .colab-df-convert {\n",
              "      background-color: #3B4455;\n",
              "      fill: #D2E3FC;\n",
              "    }\n",
              "\n",
              "    [theme=dark] .colab-df-convert:hover {\n",
              "      background-color: #434B5C;\n",
              "      box-shadow: 0px 1px 3px 1px rgba(0, 0, 0, 0.15);\n",
              "      filter: drop-shadow(0px 1px 2px rgba(0, 0, 0, 0.3));\n",
              "      fill: #FFFFFF;\n",
              "    }\n",
              "  </style>\n",
              "\n",
              "      <script>\n",
              "        const buttonEl =\n",
              "          document.querySelector('#df-f20d2284-5af0-4713-892b-87e1b09e20d1 button.colab-df-convert');\n",
              "        buttonEl.style.display =\n",
              "          google.colab.kernel.accessAllowed ? 'block' : 'none';\n",
              "\n",
              "        async function convertToInteractive(key) {\n",
              "          const element = document.querySelector('#df-f20d2284-5af0-4713-892b-87e1b09e20d1');\n",
              "          const dataTable =\n",
              "            await google.colab.kernel.invokeFunction('convertToInteractive',\n",
              "                                                     [key], {});\n",
              "          if (!dataTable) return;\n",
              "\n",
              "          const docLinkHtml = 'Like what you see? Visit the ' +\n",
              "            '<a target=\"_blank\" href=https://colab.research.google.com/notebooks/data_table.ipynb>data table notebook</a>'\n",
              "            + ' to learn more about interactive tables.';\n",
              "          element.innerHTML = '';\n",
              "          dataTable['output_type'] = 'display_data';\n",
              "          await google.colab.output.renderOutput(dataTable, element);\n",
              "          const docLink = document.createElement('div');\n",
              "          docLink.innerHTML = docLinkHtml;\n",
              "          element.appendChild(docLink);\n",
              "        }\n",
              "      </script>\n",
              "    </div>\n",
              "  </div>\n",
              "  "
            ]
          },
          "metadata": {},
          "execution_count": 23
        }
      ],
      "source": [
        "train_df_pre"
      ]
    },
    {
      "cell_type": "markdown",
      "source": [
        "### Heatmap"
      ],
      "metadata": {
        "id": "B37QRWg_PvRU"
      }
    },
    {
      "cell_type": "code",
      "execution_count": null,
      "metadata": {
        "colab": {
          "base_uri": "https://localhost:8080/",
          "height": 288
        },
        "id": "Wvmg5ZDTb8pJ",
        "outputId": "6c34c488-5b24-4dac-8acc-de4919fc61cc",
        "scrolled": true
      },
      "outputs": [
        {
          "output_type": "execute_result",
          "data": {
            "text/plain": [
              "<matplotlib.axes._subplots.AxesSubplot at 0x7f2cd17bac70>"
            ]
          },
          "metadata": {},
          "execution_count": 24
        },
        {
          "output_type": "display_data",
          "data": {
            "text/plain": [
              "<Figure size 432x288 with 2 Axes>"
            ],
            "image/png": "[encoded data removed]"
          },
          "metadata": {
            "needs_background": "light"
          }
        }
      ],
      "source": [
        "sns.heatmap(train_df[['n_votes','n_comments','book_id','rating']].corr(), annot=True)"
      ]
    },
    {
      "cell_type": "code",
      "execution_count": null,
      "metadata": {
        "colab": {
          "base_uri": "https://localhost:8080/"
        },
        "id": "rLjnRWxkdCFK",
        "outputId": "f45b7104-ced6-4234-dfd6-14ea65fd40c1"
      },
      "outputs": [
        {
          "output_type": "execute_result",
          "data": {
            "text/plain": [
              "4    313688\n",
              "5    265007\n",
              "3    188972\n",
              "2     72627\n",
              "0     30988\n",
              "1     28718\n",
              "Name: rating, dtype: int64"
            ]
          },
          "metadata": {},
          "execution_count": 25
        }
      ],
      "source": [
        "train_df.rating.value_counts()\n"
      ]
    },
    {
      "cell_type": "markdown",
      "source": [
        "### Ratings count"
      ],
      "metadata": {
        "id": "wqka17bfPzFR"
      }
    },
    {
      "cell_type": "code",
      "execution_count": null,
      "metadata": {
        "colab": {
          "base_uri": "https://localhost:8080/",
          "height": 297
        },
        "id": "oLDRRqVBRDEC",
        "outputId": "c24b5604-8ee4-4260-a998-b62fde1ec08d",
        "scrolled": true
      },
      "outputs": [
        {
          "output_type": "execute_result",
          "data": {
            "text/plain": [
              "<matplotlib.axes._subplots.AxesSubplot at 0x7f2ccd69efd0>"
            ]
          },
          "metadata": {},
          "execution_count": 26
        },
        {
          "output_type": "display_data",
          "data": {
            "text/plain": [
              "<Figure size 432x288 with 1 Axes>"
            ],
            "image/png": "[encoded data removed]"
          },
          "metadata": {
            "needs_background": "light"
          }
        }
      ],
      "source": [
        "sns.countplot(x=train_df.rating)"
      ]
    },
    {
      "cell_type": "markdown",
      "metadata": {
        "id": "BG18fTPtdCFK"
      },
      "source": [
        "## Preprocessing functions"
      ]
    },
    {
      "cell_type": "code",
      "execution_count": null,
      "metadata": {
        "id": "oSqy-tcAgRN5"
      },
      "outputs": [],
      "source": [
        "import re\n",
        "import string"
      ]
    },
    {
      "cell_type": "code",
      "execution_count": null,
      "metadata": {
        "colab": {
          "base_uri": "https://localhost:8080/"
        },
        "id": "LzXIJs4tv3DL",
        "outputId": "1c2b25c5-7d77-4343-df8b-d599efaa0d19"
      },
      "outputs": [
        {
          "output_type": "stream",
          "name": "stderr",
          "text": [
            "[nltk_data] Downloading package stopwords to /root/nltk_data...\n",
            "[nltk_data]   Unzipping corpora/stopwords.zip.\n"
          ]
        }
      ],
      "source": [
        "import nltk.corpus\n",
        "nltk.download('stopwords')\n",
        "from nltk.corpus import stopwords\n",
        "stop = stopwords.words('english')\n",
        "stop.extend(['book', 'books', 'series', 'star', 'stars', 'story', 'characters', 'character', 'read','review','spoiler','alert'])"
      ]
    },
    {
      "cell_type": "code",
      "source": [
        "def noise_removing(df):\n",
        "    # Lower case the review text\n",
        "    df['review_text'] = df['review_text'].str.lower()\n",
        "    \n",
        "    # Remove punctuation\n",
        "    df['review_text'] = df['review_text'].str.translate(str.maketrans('', '', string.punctuation))\n",
        "    \n",
        "    # Remove digits\n",
        "    df['review_text'] = df['review_text'].str.replace(r'\\d', '', regex=True)\n",
        "    \n",
        "    # Remove links and URLs\n",
        "    df['review_text'] = df['review_text'].str.replace(r'http\\S+|www\\S+', '', regex=True)\n",
        "    \n",
        "    # Remove special sequences and spoilers\n",
        "    df['review_text'] = df['review_text'].replace(r\"spoiler alert\", '', regex=True)\n",
        "    df['review_text'] = df['review_text'].replace(r'(\\(view spoiler\\).*?\\(hide spoiler\\))', '', regex=True)\n",
        "    df['review_text'] = df['review_text'].replace('\\n' , \"\",regex=True)\n",
        "    \n",
        "    # Remove quotes\n",
        "    df['review_text'] = df['review_text'].replace(r'\"([^\"\\\\]|\\\\.)*\"', '', regex=True)\n",
        "    \n",
        "    # Remove non-alphabetic characters\n",
        "    df['review_text'] = df['review_text'].str.replace(r'[^\\w\\s]', '', regex=True)\n",
        "    \n",
        "    # Remove extra whitespace\n",
        "    df['review_text'] = df['review_text'].str.replace(' +', ' ')\n",
        "    df['review_text'] = df['review_text'].str.replace('\\s*,\\s*', ',')\n"
      ],
      "metadata": {
        "id": "BC2tfwNbjMOa"
      },
      "execution_count": null,
      "outputs": []
    },
    {
      "cell_type": "markdown",
      "source": [
        "### Removing noises from data"
      ],
      "metadata": {
        "id": "E15dDDuaPmfX"
      }
    },
    {
      "cell_type": "code",
      "execution_count": null,
      "metadata": {
        "colab": {
          "base_uri": "https://localhost:8080/"
        },
        "id": "PxRvav0HdCFL",
        "outputId": "41e17229-3013-4db9-b732-987693fb615b"
      },
      "outputs": [
        {
          "output_type": "stream",
          "name": "stderr",
          "text": [
            "<ipython-input-15-45bcceefc841>:26: FutureWarning: The default value of regex will change from True to False in a future version.\n",
            "  df['review_text'] = df['review_text'].str.replace(' +', ' ')\n",
            "<ipython-input-15-45bcceefc841>:27: FutureWarning: The default value of regex will change from True to False in a future version.\n",
            "  df['review_text'] = df['review_text'].str.replace('\\s*,\\s*', ',')\n"
          ]
        }
      ],
      "source": [
        "noise_removing(train_df_pre)\n"
      ]
    },
    {
      "cell_type": "code",
      "execution_count": null,
      "metadata": {
        "scrolled": true,
        "colab": {
          "base_uri": "https://localhost:8080/",
          "height": 424
        },
        "id": "V7WSMcOsdCFL",
        "outputId": "13c0f69d-4c7d-4bde-bc99-07f5d743bbd0"
      },
      "outputs": [
        {
          "output_type": "execute_result",
          "data": {
            "text/plain": [
              "        rating                                        review_text\n",
              "0            5  this is a special book it started slow for abo...\n",
              "1            3  recommended by don katz avail for free in dece...\n",
              "2            3  a fun fast paced science fiction thriller i re...\n",
              "3            0  recommended reading to understand what is goin...\n",
              "4            4  i really enjoyed this book and there is a lot ...\n",
              "...        ...                                                ...\n",
              "899995       3   stars jenna is a popular ya author and her ag...\n",
              "899996       3  this was a quick read for me i have read a lot...\n",
              "899997       4   stars this book is sweet inside and out whats...\n",
              "899998       4   another fun read from ms evanovich diesel and...\n",
              "899999       3   stars i liked it the story is original and it...\n",
              "\n",
              "[900000 rows x 2 columns]"
            ],
            "text/html": [
              "\n",
              "  <div id=\"df-91f31d7a-389e-4839-8790-8a4fc3c6e0de\">\n",
              "    <div class=\"colab-df-container\">\n",
              "      <div>\n",
              "<style scoped>\n",
              "    .dataframe tbody tr th:only-of-type {\n",
              "        vertical-align: middle;\n",
              "    }\n",
              "\n",
              "    .dataframe tbody tr th {\n",
              "        vertical-align: top;\n",
              "    }\n",
              "\n",
              "    .dataframe thead th {\n",
              "        text-align: right;\n",
              "    }\n",
              "</style>\n",
              "<table border=\"1\" class=\"dataframe\">\n",
              "  <thead>\n",
              "    <tr style=\"text-align: right;\">\n",
              "      <th></th>\n",
              "      <th>rating</th>\n",
              "      <th>review_text</th>\n",
              "    </tr>\n",
              "  </thead>\n",
              "  <tbody>\n",
              "    <tr>\n",
              "      <th>0</th>\n",
              "      <td>5</td>\n",
              "      <td>this is a special book it started slow for abo...</td>\n",
              "    </tr>\n",
              "    <tr>\n",
              "      <th>1</th>\n",
              "      <td>3</td>\n",
              "      <td>recommended by don katz avail for free in dece...</td>\n",
              "    </tr>\n",
              "    <tr>\n",
              "      <th>2</th>\n",
              "      <td>3</td>\n",
              "      <td>a fun fast paced science fiction thriller i re...</td>\n",
              "    </tr>\n",
              "    <tr>\n",
              "      <th>3</th>\n",
              "      <td>0</td>\n",
              "      <td>recommended reading to understand what is goin...</td>\n",
              "    </tr>\n",
              "    <tr>\n",
              "      <th>4</th>\n",
              "      <td>4</td>\n",
              "      <td>i really enjoyed this book and there is a lot ...</td>\n",
              "    </tr>\n",
              "    <tr>\n",
              "      <th>...</th>\n",
              "      <td>...</td>\n",
              "      <td>...</td>\n",
              "    </tr>\n",
              "    <tr>\n",
              "      <th>899995</th>\n",
              "      <td>3</td>\n",
              "      <td>stars jenna is a popular ya author and her ag...</td>\n",
              "    </tr>\n",
              "    <tr>\n",
              "      <th>899996</th>\n",
              "      <td>3</td>\n",
              "      <td>this was a quick read for me i have read a lot...</td>\n",
              "    </tr>\n",
              "    <tr>\n",
              "      <th>899997</th>\n",
              "      <td>4</td>\n",
              "      <td>stars this book is sweet inside and out whats...</td>\n",
              "    </tr>\n",
              "    <tr>\n",
              "      <th>899998</th>\n",
              "      <td>4</td>\n",
              "      <td>another fun read from ms evanovich diesel and...</td>\n",
              "    </tr>\n",
              "    <tr>\n",
              "      <th>899999</th>\n",
              "      <td>3</td>\n",
              "      <td>stars i liked it the story is original and it...</td>\n",
              "    </tr>\n",
              "  </tbody>\n",
              "</table>\n",
              "<p>900000 rows × 2 columns</p>\n",
              "</div>\n",
              "      <button class=\"colab-df-convert\" onclick=\"convertToInteractive('df-91f31d7a-389e-4839-8790-8a4fc3c6e0de')\"\n",
              "              title=\"Convert this dataframe to an interactive table.\"\n",
              "              style=\"display:none;\">\n",
              "        \n",
              "  <svg xmlns=\"http://www.w3.org/2000/svg\" height=\"24px\"viewBox=\"0 0 24 24\"\n",
              "       width=\"24px\">\n",
              "    <path d=\"M0 0h24v24H0V0z\" fill=\"none\"/>\n",
              "    <path d=\"M18.56 5.44l.94 2.06.94-2.06 2.06-.94-2.06-.94-.94-2.06-.94 2.06-2.06.94zm-11 1L8.5 8.5l.94-2.06 2.06-.94-2.06-.94L8.5 2.5l-.94 2.06-2.06.94zm10 10l.94 2.06.94-2.06 2.06-.94-2.06-.94-.94-2.06-.94 2.06-2.06.94z\"/><path d=\"M17.41 7.96l-1.37-1.37c-.4-.4-.92-.59-1.43-.59-.52 0-1.04.2-1.43.59L10.3 9.45l-7.72 7.72c-.78.78-.78 2.05 0 2.83L4 21.41c.39.39.9.59 1.41.59.51 0 1.02-.2 1.41-.59l7.78-7.78 2.81-2.81c.8-.78.8-2.07 0-2.86zM5.41 20L4 18.59l7.72-7.72 1.47 1.35L5.41 20z\"/>\n",
              "  </svg>\n",
              "      </button>\n",
              "      \n",
              "  <style>\n",
              "    .colab-df-container {\n",
              "      display:flex;\n",
              "      flex-wrap:wrap;\n",
              "      gap: 12px;\n",
              "    }\n",
              "\n",
              "    .colab-df-convert {\n",
              "      background-color: #E8F0FE;\n",
              "      border: none;\n",
              "      border-radius: 50%;\n",
              "      cursor: pointer;\n",
              "      display: none;\n",
              "      fill: #1967D2;\n",
              "      height: 32px;\n",
              "      padding: 0 0 0 0;\n",
              "      width: 32px;\n",
              "    }\n",
              "\n",
              "    .colab-df-convert:hover {\n",
              "      background-color: #E2EBFA;\n",
              "      box-shadow: 0px 1px 2px rgba(60, 64, 67, 0.3), 0px 1px 3px 1px rgba(60, 64, 67, 0.15);\n",
              "      fill: #174EA6;\n",
              "    }\n",
              "\n",
              "    [theme=dark] .colab-df-convert {\n",
              "      background-color: #3B4455;\n",
              "      fill: #D2E3FC;\n",
              "    }\n",
              "\n",
              "    [theme=dark] .colab-df-convert:hover {\n",
              "      background-color: #434B5C;\n",
              "      box-shadow: 0px 1px 3px 1px rgba(0, 0, 0, 0.15);\n",
              "      filter: drop-shadow(0px 1px 2px rgba(0, 0, 0, 0.3));\n",
              "      fill: #FFFFFF;\n",
              "    }\n",
              "  </style>\n",
              "\n",
              "      <script>\n",
              "        const buttonEl =\n",
              "          document.querySelector('#df-91f31d7a-389e-4839-8790-8a4fc3c6e0de button.colab-df-convert');\n",
              "        buttonEl.style.display =\n",
              "          google.colab.kernel.accessAllowed ? 'block' : 'none';\n",
              "\n",
              "        async function convertToInteractive(key) {\n",
              "          const element = document.querySelector('#df-91f31d7a-389e-4839-8790-8a4fc3c6e0de');\n",
              "          const dataTable =\n",
              "            await google.colab.kernel.invokeFunction('convertToInteractive',\n",
              "                                                     [key], {});\n",
              "          if (!dataTable) return;\n",
              "\n",
              "          const docLinkHtml = 'Like what you see? Visit the ' +\n",
              "            '<a target=\"_blank\" href=https://colab.research.google.com/notebooks/data_table.ipynb>data table notebook</a>'\n",
              "            + ' to learn more about interactive tables.';\n",
              "          element.innerHTML = '';\n",
              "          dataTable['output_type'] = 'display_data';\n",
              "          await google.colab.output.renderOutput(dataTable, element);\n",
              "          const docLink = document.createElement('div');\n",
              "          docLink.innerHTML = docLinkHtml;\n",
              "          element.appendChild(docLink);\n",
              "        }\n",
              "      </script>\n",
              "    </div>\n",
              "  </div>\n",
              "  "
            ]
          },
          "metadata": {},
          "execution_count": 20
        }
      ],
      "source": [
        "train_df_pre"
      ]
    },
    {
      "cell_type": "markdown",
      "metadata": {
        "id": "OQcmf6QJdCFL"
      },
      "source": [
        "### Removing stop words"
      ]
    },
    {
      "cell_type": "code",
      "execution_count": null,
      "metadata": {
        "id": "NX9aZQBadCFL"
      },
      "outputs": [],
      "source": [
        "#removing stop words\n",
        "stop = set(stopwords.words('english'))\n",
        "# train_df_pre.review_text = train_df_pre.review_text.apply(lambda x: ' '.join([word for word in x.split() if word not in (stop)]))\n",
        "train_df_pre['review_text'] = train_df_pre['review_text'].apply(lambda x: ' '.join(word for word in x.split() if word not in stop))"
      ]
    },
    {
      "cell_type": "code",
      "execution_count": null,
      "metadata": {
        "scrolled": true,
        "colab": {
          "base_uri": "https://localhost:8080/"
        },
        "id": "shaqsDvtdCFL",
        "outputId": "4996debe-0fc2-4edc-d4ef-5bad084fa7c9"
      },
      "outputs": [
        {
          "output_type": "execute_result",
          "data": {
            "text/plain": [
              "(        rating                                        review_text\n",
              " 0            5  special book started slow first third middle t...\n",
              " 1            3               recommended katz avail free december\n",
              " 2            3  fun fast paced science fiction thriller read n...\n",
              " 3            0  recommended reading understand going middle am...\n",
              " 4            4  really enjoyed book lot recommend drag little ...\n",
              " ...        ...                                                ...\n",
              " 899995       3  stars jenna popular ya author agent wants char...\n",
              " 899996       3  quick read read lot new adult books recently o...\n",
              " 899997       4  stars book sweet inside whats sweeter ice crea...\n",
              " 899998       4  another fun read ms evanovich diesel lizzys ne...\n",
              " 899999       3  stars liked story original well written find j...\n",
              " \n",
              " [900000 rows x 2 columns],\n",
              "                                               review_text\n",
              " 0       definitely one favorites among food books ive ...\n",
              " 1       drink im huge fan coffee dont buy coffee starb...\n",
              " 2       roar one favorite characters never sky im happ...\n",
              " 3       feel like travelling europe dont money read bo...\n",
              " 4       stars read enjoyed first two novels series say...\n",
              " ...                                                   ...\n",
              " 478028       cant wait travis pov travis abby travis abby\n",
              " 478029  toread shelf forever update ive finished cant ...\n",
              " 478030  last book left wanting need happy ending one p...\n",
              " 478031  things heating second novel infernal devices b...\n",
              " 478032  even start review must say words truly describ...\n",
              " \n",
              " [478033 rows x 1 columns])"
            ]
          },
          "metadata": {},
          "execution_count": 41
        }
      ],
      "source": [
        "train_df_pre\n"
      ]
    },
    {
      "cell_type": "markdown",
      "source": [
        "### Slicing data into input and output"
      ],
      "metadata": {
        "id": "GnrNuBaSP_Ay"
      }
    },
    {
      "cell_type": "code",
      "execution_count": null,
      "metadata": {
        "scrolled": true,
        "colab": {
          "base_uri": "https://localhost:8080/"
        },
        "id": "aqOEMQ87dCFL",
        "outputId": "57de062d-b3bd-483d-e1ba-94e1efd84a8b"
      },
      "outputs": [
        {
          "output_type": "execute_result",
          "data": {
            "text/plain": [
              "(900000, 6)"
            ]
          },
          "metadata": {},
          "execution_count": 22
        }
      ],
      "source": [
        "X = train_df_pre.review_text\n",
        "from tensorflow.keras.utils import to_categorical\n",
        "\n",
        "y = to_categorical(train_df['rating'])\n",
        "y.shape\n",
        "\n"
      ]
    },
    {
      "cell_type": "code",
      "execution_count": null,
      "metadata": {
        "scrolled": true,
        "colab": {
          "base_uri": "https://localhost:8080/"
        },
        "id": "1e37NYjzdCFM",
        "outputId": "9da261b6-b3ba-4d44-f49e-52dcd86e4392"
      },
      "outputs": [
        {
          "output_type": "execute_result",
          "data": {
            "text/plain": [
              "0         special book started slow first third middle t...\n",
              "1                      recommended katz avail free december\n",
              "2         fun fast paced science fiction thriller read n...\n",
              "3         recommended reading understand going middle am...\n",
              "4         really enjoyed book lot recommend drag little ...\n",
              "                                ...                        \n",
              "899995    stars jenna popular ya author agent wants char...\n",
              "899996    quick read read lot new adult books recently o...\n",
              "899997    stars book sweet inside whats sweeter ice crea...\n",
              "899998    another fun read ms evanovich diesel lizzys ne...\n",
              "899999    stars liked story original well written find j...\n",
              "Name: review_text, Length: 900000, dtype: object"
            ]
          },
          "metadata": {},
          "execution_count": 43
        }
      ],
      "source": [
        "X"
      ]
    },
    {
      "cell_type": "markdown",
      "metadata": {
        "id": "XuwTIKhgdCFM"
      },
      "source": [
        "### Tokenizing"
      ]
    },
    {
      "cell_type": "code",
      "execution_count": null,
      "metadata": {
        "colab": {
          "base_uri": "https://localhost:8080/"
        },
        "id": "gskzcD-QdCFM",
        "outputId": "ec2f992e-d2be-435e-c8b2-4e6191ad50b9"
      },
      "outputs": [
        {
          "output_type": "stream",
          "name": "stdout",
          "text": [
            "Vocabulary size found: 638123\n"
          ]
        }
      ],
      "source": [
        "from keras.preprocessing.text import Tokenizer\n",
        "# The maximum number of words to be used. (most frequent)\n",
        "MAX_NB_WORDS = 10000\n",
        "# Max number of words in each complaint.\n",
        "MAX_SEQUENCE_LENGTH = 250\n",
        "# This is fixed.\n",
        "EMBEDDING_DIM = 100\n",
        "tokenizer = Tokenizer(num_words=MAX_NB_WORDS, filters='!\"#$%&()*+,-./:;<=>?@[\\]^_`{|}~')\n",
        "tokenizer.fit_on_texts(X)\n",
        "\n",
        "word_index = tokenizer.word_index\n",
        "print('Vocabulary size found:', len(word_index))\n"
      ]
    },
    {
      "cell_type": "code",
      "execution_count": null,
      "metadata": {
        "id": "3iRkxDtedCFM"
      },
      "outputs": [],
      "source": [
        "vocab_size = len(tokenizer.word_index) + 1"
      ]
    },
    {
      "cell_type": "code",
      "execution_count": null,
      "metadata": {
        "id": "etQqMeRadCFM"
      },
      "outputs": [],
      "source": [
        "from tensorflow.keras.preprocessing.sequence import pad_sequences\n",
        "X = tokenizer.texts_to_sequences(X.values)\n",
        "X = pad_sequences(X, maxlen=MAX_SEQUENCE_LENGTH)\n"
      ]
    },
    {
      "cell_type": "code",
      "execution_count": null,
      "metadata": {
        "colab": {
          "base_uri": "https://localhost:8080/"
        },
        "id": "lK8EvD7edCFM",
        "outputId": "0b350074-b2a2-4058-bd35-264c28e79659"
      },
      "outputs": [
        {
          "output_type": "stream",
          "name": "stdout",
          "text": [
            "Shape of data tensor: (900000, 250)\n"
          ]
        }
      ],
      "source": [
        "print('Shape of data tensor:', X.shape)"
      ]
    },
    {
      "cell_type": "markdown",
      "metadata": {
        "id": "dBB7O3g0dCFM"
      },
      "source": [
        "## Split train set into train and test sets\n"
      ]
    },
    {
      "cell_type": "code",
      "execution_count": null,
      "metadata": {
        "id": "qxaPuPK4dCFM"
      },
      "outputs": [],
      "source": [
        "from sklearn.model_selection import train_test_split\n",
        "X_train, X_test, y_train, y_test = train_test_split(X , y, test_size=0.2, random_state=42)\n"
      ]
    },
    {
      "cell_type": "markdown",
      "metadata": {
        "id": "ZCcBa7cLdCFM"
      },
      "source": [
        "## Import embedding"
      ]
    },
    {
      "cell_type": "code",
      "execution_count": null,
      "metadata": {
        "colab": {
          "base_uri": "https://localhost:8080/"
        },
        "id": "wT4IJhsSdCFM",
        "outputId": "387fe456-0717-418f-b57b-afc95f459338"
      },
      "outputs": [
        {
          "output_type": "stream",
          "name": "stdout",
          "text": [
            "--2023-01-09 09:16:25--  http://nlp.stanford.edu/data/glove.6B.zip\n",
            "Resolving nlp.stanford.edu (nlp.stanford.edu)... 171.64.67.140\n",
            "Connecting to nlp.stanford.edu (nlp.stanford.edu)|171.64.67.140|:80... connected.\n",
            "HTTP request sent, awaiting response... 302 Found\n",
            "Location: https://nlp.stanford.edu/data/glove.6B.zip [following]\n",
            "--2023-01-09 09:16:25--  https://nlp.stanford.edu/data/glove.6B.zip\n",
            "Connecting to nlp.stanford.edu (nlp.stanford.edu)|171.64.67.140|:443... connected.\n",
            "HTTP request sent, awaiting response... 301 Moved Permanently\n",
            "Location: https://downloads.cs.stanford.edu/nlp/data/glove.6B.zip [following]\n",
            "--2023-01-09 09:16:26--  https://downloads.cs.stanford.edu/nlp/data/glove.6B.zip\n",
            "Resolving downloads.cs.stanford.edu (downloads.cs.stanford.edu)... 171.64.64.22\n",
            "Connecting to downloads.cs.stanford.edu (downloads.cs.stanford.edu)|171.64.64.22|:443... connected.\n",
            "HTTP request sent, awaiting response... 200 OK\n",
            "Length: 862182613 (822M) [application/zip]\n",
            "Saving to: ‘glove.6B.zip’\n",
            "\n",
            "glove.6B.zip        100%[===================>] 822.24M  5.00MB/s    in 2m 39s  \n",
            "\n",
            "2023-01-09 09:19:06 (5.17 MB/s) - ‘glove.6B.zip’ saved [862182613/862182613]\n",
            "\n",
            "Archive:  glove.6B.zip\n",
            "  inflating: glove.6B.50d.txt        \n",
            "  inflating: glove.6B.100d.txt       \n",
            "  inflating: glove.6B.200d.txt       \n",
            "  inflating: glove.6B.300d.txt       \n"
          ]
        }
      ],
      "source": [
        "!wget http://nlp.stanford.edu/data/glove.6B.zip\n",
        "!unzip glove.6B.zip"
      ]
    },
    {
      "cell_type": "markdown",
      "metadata": {
        "id": "w307_7AYdCFM"
      },
      "source": [
        "## Embedding"
      ]
    },
    {
      "cell_type": "code",
      "execution_count": null,
      "metadata": {
        "id": "UDfgx0VOdCFM"
      },
      "outputs": [],
      "source": [
        "GLOVE_EMB = 'glove.6B.300d.txt'\n",
        "EMBEDDING_DIM = 300\n",
        "LR = 1e-3\n",
        "# BATCH_SIZE = 8\n",
        "# EPOCHS = 10\n"
      ]
    },
    {
      "cell_type": "code",
      "execution_count": null,
      "metadata": {
        "scrolled": true,
        "colab": {
          "base_uri": "https://localhost:8080/"
        },
        "id": "Bx4sgyIWdCFN",
        "outputId": "e8fe332f-5115-4f80-fb1a-573ce0931eab"
      },
      "outputs": [
        {
          "output_type": "stream",
          "name": "stdout",
          "text": [
            "Found 400000 word vectors.\n"
          ]
        }
      ],
      "source": [
        "embeddings_index = {}\n",
        "\n",
        "f = open(GLOVE_EMB, encoding='utf-8')\n",
        "\n",
        "for line in f:\n",
        "  values = line.split()\n",
        "  word = value = values[0]\n",
        "  coefs = np.asarray(values[1:], dtype='float32')\n",
        "  embeddings_index[word] = coefs\n",
        "f.close()\n",
        "\n",
        "print('Found %s word vectors.' %len(embeddings_index))"
      ]
    },
    {
      "cell_type": "code",
      "execution_count": null,
      "metadata": {
        "id": "4EIQ1i_edCFN"
      },
      "outputs": [],
      "source": [
        "embedding_matrix = np.zeros((vocab_size, EMBEDDING_DIM))\n",
        "for word, i in word_index.items():\n",
        "  embedding_vector = embeddings_index.get(word)\n",
        "  if embedding_vector is not None:\n",
        "    embedding_matrix[i] = embedding_vector"
      ]
    },
    {
      "cell_type": "code",
      "execution_count": null,
      "metadata": {
        "id": "KGai1Um6dCFN"
      },
      "outputs": [],
      "source": [
        "import tensorflow as tf"
      ]
    },
    {
      "cell_type": "code",
      "execution_count": null,
      "metadata": {
        "id": "DdLhleSWdCFN"
      },
      "outputs": [],
      "source": [
        "#embedding layer\n",
        "embedding_layer = tf.keras.layers.Embedding(vocab_size,\n",
        "                                          EMBEDDING_DIM,\n",
        "                                          weights=[embedding_matrix],\n",
        "                                          input_length=MAX_SEQUENCE_LENGTH,\n",
        "                                          trainable=False)"
      ]
    },
    {
      "cell_type": "markdown",
      "metadata": {
        "id": "rB3Lv4G7dCFN"
      },
      "source": [
        "# Model Training - LSTM"
      ]
    },
    {
      "cell_type": "code",
      "execution_count": null,
      "metadata": {
        "id": "fShm_8_5dCFN"
      },
      "outputs": [],
      "source": [
        "from tensorflow.keras.callbacks import ModelCheckpoint"
      ]
    },
    {
      "cell_type": "code",
      "execution_count": null,
      "metadata": {
        "colab": {
          "base_uri": "https://localhost:8080/"
        },
        "id": "hqUmo2VQdCFN",
        "outputId": "f3c3386b-6a64-4ef5-e044-103640558f0b"
      },
      "outputs": [
        {
          "output_type": "stream",
          "name": "stderr",
          "text": [
            "WARNING:tensorflow:Layer lstm will not use cuDNN kernels since it doesn't meet the criteria. It will use a generic GPU kernel as fallback when running on GPU.\n",
            "WARNING:tensorflow:Layer lstm will not use cuDNN kernels since it doesn't meet the criteria. It will use a generic GPU kernel as fallback when running on GPU.\n",
            "WARNING:tensorflow:Layer lstm will not use cuDNN kernels since it doesn't meet the criteria. It will use a generic GPU kernel as fallback when running on GPU.\n"
          ]
        }
      ],
      "source": [
        "from keras.layers import Embedding, LSTM, SpatialDropout1D, Bidirectional, Dropout, Dense\n",
        "from keras.models import Sequential\n",
        "from tensorflow.keras.optimizers import Adam\n",
        "from tensorflow.keras.callbacks import ReduceLROnPlateau\n",
        "\n",
        "model = Sequential()\n",
        "# Add the embedding layer\n",
        "model.add(embedding_layer)\n",
        "\n",
        "# Add SpatialDropout1D\n",
        "model.add(SpatialDropout1D(0.2))\n",
        "# Add the bidirectional LSTM layer\n",
        "model.add(Bidirectional(LSTM(64, dropout=0.2, recurrent_dropout=0.2)))\n",
        "# Add the dropout layer\n",
        "model.add(Dropout(0.5))\n",
        "# Add the dense layer\n",
        "model.add(Dense(128, activation='relu'))\n",
        "\n",
        "# Add the output layer\n",
        "model.add(Dense(6, activation='softmax'))\n",
        "\n",
        "model.compile(loss='categorical_crossentropy', optimizer='adam', metrics=['accuracy'])\n",
        "ReduceLROnPlateau = ReduceLROnPlateau(factor=0.1,\n",
        "                                     min_lr = 0.01,\n",
        "                                     monitor = 'val_loss',\n",
        "                                     verbose = 1)\n",
        "\n",
        "\n"
      ]
    },
    {
      "cell_type": "code",
      "execution_count": null,
      "metadata": {
        "colab": {
          "base_uri": "https://localhost:8080/"
        },
        "id": "j2hfQ6nrdCFN",
        "outputId": "cfd404ca-6744-4811-c10b-d76d0374880e"
      },
      "outputs": [
        {
          "output_type": "stream",
          "name": "stdout",
          "text": [
            "Epoch 1/10\n",
            "625/625 [==============================] - 597s 944ms/step - loss: 1.2780 - accuracy: 0.4512 - val_loss: 1.1552 - val_accuracy: 0.5047 - lr: 0.0010\n",
            "Epoch 2/10\n",
            "625/625 [==============================] - 577s 923ms/step - loss: 1.1706 - accuracy: 0.4969 - val_loss: 1.1108 - val_accuracy: 0.5232 - lr: 0.0010\n",
            "Epoch 3/10\n",
            "625/625 [==============================] - 576s 922ms/step - loss: 1.1429 - accuracy: 0.5089 - val_loss: 1.1107 - val_accuracy: 0.5240 - lr: 0.0010\n",
            "Epoch 4/10\n",
            "625/625 [==============================] - 574s 919ms/step - loss: 1.1275 - accuracy: 0.5148 - val_loss: 1.0803 - val_accuracy: 0.5357 - lr: 0.0010\n",
            "Epoch 5/10\n",
            "625/625 [==============================] - 568s 909ms/step - loss: 1.1166 - accuracy: 0.5200 - val_loss: 1.0760 - val_accuracy: 0.5403 - lr: 0.0010\n",
            "Epoch 6/10\n",
            "625/625 [==============================] - 581s 930ms/step - loss: 1.1088 - accuracy: 0.5234 - val_loss: 1.0682 - val_accuracy: 0.5428 - lr: 0.0010\n",
            "Epoch 7/10\n",
            "625/625 [==============================] - 568s 909ms/step - loss: 1.1029 - accuracy: 0.5259 - val_loss: 1.0693 - val_accuracy: 0.5408 - lr: 0.0010\n",
            "Epoch 8/10\n",
            "625/625 [==============================] - 566s 906ms/step - loss: 1.0975 - accuracy: 0.5285 - val_loss: 1.0605 - val_accuracy: 0.5460 - lr: 0.0010\n",
            "Epoch 9/10\n",
            "625/625 [==============================] - 576s 922ms/step - loss: 1.0922 - accuracy: 0.5308 - val_loss: 1.0562 - val_accuracy: 0.5482 - lr: 0.0010\n",
            "Epoch 10/10\n",
            "625/625 [==============================] - 562s 898ms/step - loss: 1.0884 - accuracy: 0.5326 - val_loss: 1.0556 - val_accuracy: 0.5484 - lr: 0.0010\n"
          ]
        }
      ],
      "source": [
        "BATCH_SIZE = 1152\n",
        "EPOCHS = 10\n",
        "history = model.fit(X_train, y_train, batch_size=BATCH_SIZE, epochs=EPOCHS,\n",
        "                    validation_data=(X_test, y_test), callbacks=[ReduceLROnPlateau])"
      ]
    },
    {
      "cell_type": "markdown",
      "source": [
        "### Model metrics visualisation"
      ],
      "metadata": {
        "id": "wUpY_vdaX75z"
      }
    },
    {
      "cell_type": "code",
      "source": [
        "metrics = history.history\n",
        "plt.figure(figsize=(16,6))\n",
        "plt.subplot(1,2,1)\n",
        "plt.plot(history.epoch, metrics['loss'], metrics['val_loss'])\n",
        "plt.legend(['loss', 'val_loss'])\n",
        "plt.ylim([0, max(plt.ylim())])\n",
        "plt.xlabel('Epoch')\n",
        "plt.ylabel('Loss [CrossEntropy]')\n",
        "\n",
        "plt.subplot(1,2,2)\n",
        "plt.plot(history.epoch, 100*np.array(metrics['accuracy']), 100*np.array(metrics['val_accuracy']))\n",
        "plt.legend(['accuracy', 'val_accuracy'])\n",
        "plt.ylim([0, 100])\n",
        "plt.xlabel('Epoch')\n",
        "plt.ylabel('Accuracy [%]')"
      ],
      "metadata": {
        "id": "QAmXlKhE4VYk",
        "colab": {
          "base_uri": "https://localhost:8080/",
          "height": 312
        },
        "outputId": "1a882033-4411-4bd5-e86c-ab727b4f3f7c"
      },
      "execution_count": null,
      "outputs": [
        {
          "output_type": "execute_result",
          "data": {
            "text/plain": [
              "Text(0, 0.5, 'Accuracy [%]')"
            ]
          },
          "metadata": {},
          "execution_count": 36
        },
        {
          "output_type": "display_data",
          "data": {
            "text/plain": [
              "<Figure size 1152x432 with 2 Axes>"
            ],
            "image/png": "[encoded data removed]"
          },
          "metadata": {
            "needs_background": "light"
          }
        }
      ]
    },
    {
      "cell_type": "code",
      "source": [
        "from sklearn.metrics import plot_confusion_matrix\n",
        "\n",
        "plot_confusion_matrix(model, X_test, y_test)\n"
      ],
      "metadata": {
        "id": "xw2Vu_1mIRj_"
      },
      "execution_count": null,
      "outputs": []
    },
    {
      "cell_type": "code",
      "source": [
        "model.save(\"saved_model\")"
      ],
      "metadata": {
        "id": "IMfdvRNulC-P"
      },
      "execution_count": null,
      "outputs": []
    },
    {
      "cell_type": "code",
      "source": [
        "!zip -r ./saved_model.zip ./saved_model"
      ],
      "metadata": {
        "id": "bFDyOo9DlsDV",
        "outputId": "d733085e-2087-42d0-d16b-db50e44ea4f3",
        "colab": {
          "base_uri": "https://localhost:8080/"
        }
      },
      "execution_count": null,
      "outputs": [
        {
          "output_type": "stream",
          "name": "stdout",
          "text": [
            "  adding: saved_model/ (stored 0%)\n",
            "  adding: saved_model/assets/ (stored 0%)\n",
            "  adding: saved_model/saved_model.pb (deflated 91%)\n",
            "  adding: saved_model/variables/ (stored 0%)\n",
            "  adding: saved_model/variables/variables.index (deflated 66%)\n",
            "  adding: saved_model/variables/variables.data-00000-of-00001 (deflated 83%)\n",
            "  adding: saved_model/keras_metadata.pb (deflated 90%)\n"
          ]
        }
      ]
    },
    {
      "cell_type": "code",
      "source": [
        "test_df = pd.read_csv('goodreads_test.csv')\n",
        "#remove noises in textx\n",
        "noise_removing(test_df)\n",
        "#remove stop words\n",
        "test_df['review_text'] = test_df['review_text'].apply(lambda x: ' '.join(word for word in x.split() if word not in stop))\n",
        "test = test_df['review_text']\n",
        "test = tokenizer.texts_to_sequences(test.values)\n",
        "test = pad_sequences(test, maxlen=MAX_SEQUENCE_LENGTH)"
      ],
      "metadata": {
        "colab": {
          "base_uri": "https://localhost:8080/"
        },
        "id": "K9RSjkfHLef7",
        "outputId": "f35fc480-b56a-4011-cbe2-4bb6e91982e9"
      },
      "execution_count": null,
      "outputs": [
        {
          "output_type": "stream",
          "name": "stderr",
          "text": [
            "<ipython-input-46-b6ef2677291e>:26: FutureWarning: The default value of regex will change from True to False in a future version.\n",
            "  df['review_text'] = df['review_text'].str.replace(' +', ' ')\n",
            "<ipython-input-46-b6ef2677291e>:27: FutureWarning: The default value of regex will change from True to False in a future version.\n",
            "  df['review_text'] = df['review_text'].str.replace('\\s*,\\s*', ',')\n"
          ]
        }
      ]
    },
    {
      "cell_type": "code",
      "source": [
        "test = tokenizer.texts_to_sequences(test.values)\n",
        "test = pad_sequences(test, maxlen=MAX_SEQUENCE_LENGTH)"
      ],
      "metadata": {
        "id": "vrQIuWuYMIMm"
      },
      "execution_count": null,
      "outputs": []
    },
    {
      "cell_type": "code",
      "source": [
        "sub = pd.DataFrame()\n",
        "sub['review_id'] = test_df.review_id\n",
        "sub['rating'] = [np.argmax(i) for i in model.predict(test)]\n",
        "sub.head()"
      ],
      "metadata": {
        "colab": {
          "base_uri": "https://localhost:8080/",
          "height": 223
        },
        "id": "z_XcnBvrLgVj",
        "outputId": "f92ba6d6-2b8f-4b00-a08a-4e74f7584c7e"
      },
      "execution_count": null,
      "outputs": [
        {
          "output_type": "stream",
          "name": "stdout",
          "text": [
            "14939/14939 [==============================] - 1937s 130ms/step\n"
          ]
        },
        {
          "output_type": "execute_result",
          "data": {
            "text/plain": [
              "                          review_id  rating\n",
              "0  5c4df7e70e9b438c761f07a4620ccb7c       5\n",
              "1  8eaeaf13213eeb16ad879a2a2591bbe5       3\n",
              "2  dce649b733c153ba5363a0413cac988f       5\n",
              "3  8a46df0bb997269d6834f9437a4b0a77       3\n",
              "4  d11d3091e22f1cf3cb865598de197599       4"
            ],
            "text/html": [
              "\n",
              "  <div id=\"df-64a31889-9efa-427a-a228-ecc8ab8145e4\">\n",
              "    <div class=\"colab-df-container\">\n",
              "      <div>\n",
              "<style scoped>\n",
              "    .dataframe tbody tr th:only-of-type {\n",
              "        vertical-align: middle;\n",
              "    }\n",
              "\n",
              "    .dataframe tbody tr th {\n",
              "        vertical-align: top;\n",
              "    }\n",
              "\n",
              "    .dataframe thead th {\n",
              "        text-align: right;\n",
              "    }\n",
              "</style>\n",
              "<table border=\"1\" class=\"dataframe\">\n",
              "  <thead>\n",
              "    <tr style=\"text-align: right;\">\n",
              "      <th></th>\n",
              "      <th>review_id</th>\n",
              "      <th>rating</th>\n",
              "    </tr>\n",
              "  </thead>\n",
              "  <tbody>\n",
              "    <tr>\n",
              "      <th>0</th>\n",
              "      <td>5c4df7e70e9b438c761f07a4620ccb7c</td>\n",
              "      <td>5</td>\n",
              "    </tr>\n",
              "    <tr>\n",
              "      <th>1</th>\n",
              "      <td>8eaeaf13213eeb16ad879a2a2591bbe5</td>\n",
              "      <td>3</td>\n",
              "    </tr>\n",
              "    <tr>\n",
              "      <th>2</th>\n",
              "      <td>dce649b733c153ba5363a0413cac988f</td>\n",
              "      <td>5</td>\n",
              "    </tr>\n",
              "    <tr>\n",
              "      <th>3</th>\n",
              "      <td>8a46df0bb997269d6834f9437a4b0a77</td>\n",
              "      <td>3</td>\n",
              "    </tr>\n",
              "    <tr>\n",
              "      <th>4</th>\n",
              "      <td>d11d3091e22f1cf3cb865598de197599</td>\n",
              "      <td>4</td>\n",
              "    </tr>\n",
              "  </tbody>\n",
              "</table>\n",
              "</div>\n",
              "      <button class=\"colab-df-convert\" onclick=\"convertToInteractive('df-64a31889-9efa-427a-a228-ecc8ab8145e4')\"\n",
              "              title=\"Convert this dataframe to an interactive table.\"\n",
              "              style=\"display:none;\">\n",
              "        \n",
              "  <svg xmlns=\"http://www.w3.org/2000/svg\" height=\"24px\"viewBox=\"0 0 24 24\"\n",
              "       width=\"24px\">\n",
              "    <path d=\"M0 0h24v24H0V0z\" fill=\"none\"/>\n",
              "    <path d=\"M18.56 5.44l.94 2.06.94-2.06 2.06-.94-2.06-.94-.94-2.06-.94 2.06-2.06.94zm-11 1L8.5 8.5l.94-2.06 2.06-.94-2.06-.94L8.5 2.5l-.94 2.06-2.06.94zm10 10l.94 2.06.94-2.06 2.06-.94-2.06-.94-.94-2.06-.94 2.06-2.06.94z\"/><path d=\"M17.41 7.96l-1.37-1.37c-.4-.4-.92-.59-1.43-.59-.52 0-1.04.2-1.43.59L10.3 9.45l-7.72 7.72c-.78.78-.78 2.05 0 2.83L4 21.41c.39.39.9.59 1.41.59.51 0 1.02-.2 1.41-.59l7.78-7.78 2.81-2.81c.8-.78.8-2.07 0-2.86zM5.41 20L4 18.59l7.72-7.72 1.47 1.35L5.41 20z\"/>\n",
              "  </svg>\n",
              "      </button>\n",
              "      \n",
              "  <style>\n",
              "    .colab-df-container {\n",
              "      display:flex;\n",
              "      flex-wrap:wrap;\n",
              "      gap: 12px;\n",
              "    }\n",
              "\n",
              "    .colab-df-convert {\n",
              "      background-color: #E8F0FE;\n",
              "      border: none;\n",
              "      border-radius: 50%;\n",
              "      cursor: pointer;\n",
              "      display: none;\n",
              "      fill: #1967D2;\n",
              "      height: 32px;\n",
              "      padding: 0 0 0 0;\n",
              "      width: 32px;\n",
              "    }\n",
              "\n",
              "    .colab-df-convert:hover {\n",
              "      background-color: #E2EBFA;\n",
              "      box-shadow: 0px 1px 2px rgba(60, 64, 67, 0.3), 0px 1px 3px 1px rgba(60, 64, 67, 0.15);\n",
              "      fill: #174EA6;\n",
              "    }\n",
              "\n",
              "    [theme=dark] .colab-df-convert {\n",
              "      background-color: #3B4455;\n",
              "      fill: #D2E3FC;\n",
              "    }\n",
              "\n",
              "    [theme=dark] .colab-df-convert:hover {\n",
              "      background-color: #434B5C;\n",
              "      box-shadow: 0px 1px 3px 1px rgba(0, 0, 0, 0.15);\n",
              "      filter: drop-shadow(0px 1px 2px rgba(0, 0, 0, 0.3));\n",
              "      fill: #FFFFFF;\n",
              "    }\n",
              "  </style>\n",
              "\n",
              "      <script>\n",
              "        const buttonEl =\n",
              "          document.querySelector('#df-64a31889-9efa-427a-a228-ecc8ab8145e4 button.colab-df-convert');\n",
              "        buttonEl.style.display =\n",
              "          google.colab.kernel.accessAllowed ? 'block' : 'none';\n",
              "\n",
              "        async function convertToInteractive(key) {\n",
              "          const element = document.querySelector('#df-64a31889-9efa-427a-a228-ecc8ab8145e4');\n",
              "          const dataTable =\n",
              "            await google.colab.kernel.invokeFunction('convertToInteractive',\n",
              "                                                     [key], {});\n",
              "          if (!dataTable) return;\n",
              "\n",
              "          const docLinkHtml = 'Like what you see? Visit the ' +\n",
              "            '<a target=\"_blank\" href=https://colab.research.google.com/notebooks/data_table.ipynb>data table notebook</a>'\n",
              "            + ' to learn more about interactive tables.';\n",
              "          element.innerHTML = '';\n",
              "          dataTable['output_type'] = 'display_data';\n",
              "          await google.colab.output.renderOutput(dataTable, element);\n",
              "          const docLink = document.createElement('div');\n",
              "          docLink.innerHTML = docLinkHtml;\n",
              "          element.appendChild(docLink);\n",
              "        }\n",
              "      </script>\n",
              "    </div>\n",
              "  </div>\n",
              "  "
            ]
          },
          "metadata": {},
          "execution_count": 42
        }
      ]
    },
    {
      "cell_type": "code",
      "source": [
        "loaded_model = tf.keras.models.load_model(r'app\\model\\saved_model')"
      ],
      "metadata": {
        "id": "dwk6ygViy34I"
      },
      "execution_count": null,
      "outputs": []
    },
    {
      "cell_type": "code",
      "source": [
        "rat = model.predict('lovely love ')"
      ],
      "metadata": {
        "colab": {
          "base_uri": "https://localhost:8080/",
          "height": 166
        },
        "id": "KKQRJR1Gx4wB",
        "outputId": "8c13b8ce-a6f0-4ca5-b75f-2b5f7bf5da6a"
      },
      "execution_count": null,
      "outputs": [
        {
          "output_type": "error",
          "ename": "NameError",
          "evalue": "ignored",
          "traceback": [
            "\u001b[0;31m---------------------------------------------------------------------------\u001b[0m",
            "\u001b[0;31mNameError\u001b[0m                                 Traceback (most recent call last)",
            "\u001b[0;32m<ipython-input-1-3a41d85b2f07>\u001b[0m in \u001b[0;36m<module>\u001b[0;34m\u001b[0m\n\u001b[0;32m----> 1\u001b[0;31m \u001b[0mrat\u001b[0m \u001b[0;34m=\u001b[0m \u001b[0mmodel\u001b[0m\u001b[0;34m.\u001b[0m\u001b[0mpredict\u001b[0m\u001b[0;34m(\u001b[0m\u001b[0;34m'lovely love '\u001b[0m\u001b[0;34m)\u001b[0m\u001b[0;34m\u001b[0m\u001b[0;34m\u001b[0m\u001b[0m\n\u001b[0m",
            "\u001b[0;31mNameError\u001b[0m: name 'model' is not defined"
          ]
        }
      ]
    },
    {
      "cell_type": "code",
      "source": [
        "sub.to_csv(\"submission.csv\", index = False)"
      ],
      "metadata": {
        "id": "WVpMaY2uRwk4"
      },
      "execution_count": null,
      "outputs": []
    }
  ],
  "metadata": {
    "colab": {
      "provenance": []
    },
    "kernelspec": {
      "display_name": "Python 3 (ipykernel)",
      "language": "python",
      "name": "python3"
    },
    "language_info": {
      "codemirror_mode": {
        "name": "ipython",
        "version": 3
      },
      "file_extension": ".py",
      "mimetype": "text/x-python",
      "name": "python",
      "nbconvert_exporter": "python",
      "pygments_lexer": "ipython3",
      "version": "3.10.3"
    },
    "accelerator": "GPU",
    "gpuClass": "standard"
  },
  "nbformat": 4,
  "nbformat_minor": 0
}